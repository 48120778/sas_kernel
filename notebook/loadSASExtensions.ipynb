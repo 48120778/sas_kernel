{
 "cells": [
  {
   "cell_type": "code",
   "execution_count": 9,
   "metadata": {
    "collapsed": false
   },
   "outputs": [
    {
     "name": "stdout",
     "output_type": "stream",
     "text": [
      "/root/.local/share/jupyter\n",
      "['/root/.local/share/jupyter', '/usr/local/share/jupyter', '/usr/share/jupyter']\n"
     ]
    }
   ],
   "source": [
    "import notebook\n",
    "from __future__ import print_function\n",
    "from jupyter_core.paths import jupyter_data_dir, jupyter_path\n",
    "print(jupyter_data_dir())\n",
    "print(jupyter_path())"
   ]
  },
  {
   "cell_type": "code",
   "execution_count": null,
   "metadata": {
    "collapsed": true
   },
   "outputs": [],
   "source": [
    "! jupyter nbextension install /root/sas_kernel/sas_kernel/nbextensions/showSASLog"
   ]
  },
  {
   "cell_type": "code",
   "execution_count": 6,
   "metadata": {
    "collapsed": false
   },
   "outputs": [],
   "source": [
    "if notebook.nbextensions.check_nbextension('showSASLog', user=False):\n",
    "    E = notebook.nbextensions.EnableNBExtensionApp()\n",
    "    E.enable_nbextension('showSASLog/main')\n",
    "else:\n",
    "    print (\"Extension not found\")"
   ]
  },
  {
   "cell_type": "code",
   "execution_count": 7,
   "metadata": {
    "collapsed": false
   },
   "outputs": [
    {
     "name": "stdout",
     "output_type": "stream",
     "text": [
      "copying /root/sas_kernel/sas_kernel/nbextensions/theme/theme_selector.js -> /usr/local/share/jupyter/nbextensions/theme/theme_selector.js\r\n",
      "copying /root/sas_kernel/sas_kernel/nbextensions/theme/base16-sas-light.css -> /usr/local/share/jupyter/nbextensions/theme/base16-sas-light.css\r\n",
      "copying /root/sas_kernel/sas_kernel/nbextensions/theme/theme_selector.yaml -> /usr/local/share/jupyter/nbextensions/theme/theme_selector.yaml\r\n",
      "copying /root/sas_kernel/sas_kernel/nbextensions/theme/readme.md -> /usr/local/share/jupyter/nbextensions/theme/readme.md\r\n"
     ]
    }
   ],
   "source": [
    "! jupyter nbextension install /root/sas_kernel/sas_kernel/nbextensions/theme"
   ]
  },
  {
   "cell_type": "code",
   "execution_count": 10,
   "metadata": {
    "collapsed": false
   },
   "outputs": [],
   "source": [
    "if notebook.nbextensions.check_nbextension('theme', user=False):\n",
    "    E = notebook.nbextensions.EnableNBExtensionApp()\n",
    "    E.enable_nbextension('theme/theme_selector')\n",
    "else:\n",
    "    print (\"Extension not found\")"
   ]
  },
  {
   "cell_type": "code",
   "execution_count": 12,
   "metadata": {
    "collapsed": false
   },
   "outputs": [
    {
     "data": {
      "text/html": [
       "\n",
       "<table border=\"1\">\n",
       "  <tr>\n",
       "    <th>Extension name</th>\n",
       "  </tr>\n",
       "<tr><td>theme/theme_selector</td>\n",
       "<tr><td>showSASLog/main</td>\n",
       "\n",
       "</table>\n"
      ],
      "text/plain": [
       "<IPython.core.display.HTML object>"
      ]
     },
     "execution_count": 12,
     "metadata": {},
     "output_type": "execute_result"
    }
   ],
   "source": [
    "from notebook.services.config import ConfigManager\n",
    "from IPython.display import HTML\n",
    "ip = get_ipython()\n",
    "cm = ConfigManager(parent=ip, profile_dir=ip.profile_dir.location)\n",
    "extensions =cm.get('notebook')\n",
    "table = \"\"\n",
    "for ext in extensions['load_extensions']:\n",
    "    table += \"<tr><td>%s</td>\\n\" % (ext)\n",
    "\n",
    "top = \"\"\"\n",
    "<table border=\"1\">\n",
    "  <tr>\n",
    "    <th>Extension name</th>\n",
    "  </tr>\n",
    "\"\"\"\n",
    "bottom = \"\"\"\n",
    "</table>\n",
    "\"\"\"\n",
    "HTML(top + table + bottom)\n"
   ]
  },
  {
   "cell_type": "code",
   "execution_count": null,
   "metadata": {
    "collapsed": true
   },
   "outputs": [],
   "source": [
    "# check for update 3"
   ]
  }
 ],
 "metadata": {
  "kernelspec": {
   "display_name": "Python 3",
   "language": "python",
   "name": "python3"
  },
  "language_info": {
   "codemirror_mode": {
    "name": "ipython",
    "version": 3
   },
   "file_extension": ".py",
   "mimetype": "text/x-python",
   "name": "python",
   "nbconvert_exporter": "python",
   "pygments_lexer": "ipython3",
   "version": "3.5.1"
  }
 },
 "nbformat": 4,
 "nbformat_minor": 0
}
