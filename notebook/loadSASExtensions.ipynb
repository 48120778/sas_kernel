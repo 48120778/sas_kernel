{
 "cells": [
  {
   "cell_type": "code",
   "execution_count": 1,
   "metadata": {
    "collapsed": false
   },
   "outputs": [
    {
     "name": "stdout",
     "output_type": "stream",
     "text": [
      "/r/ge.unx.sas.com/vol/vol620/u62/jadean/.local/share/jupyter\n",
      "['/r/ge.unx.sas.com/vol/vol620/u62/jadean/.local/share/jupyter', '/python3/anaconda3/share/jupyter', '/usr/local/share/jupyter', '/usr/share/jupyter']\n"
     ]
    }
   ],
   "source": [
    "from __future__ import print_function\n",
    "from jupyter_core.paths import jupyter_data_dir, jupyter_path\n",
    "print(jupyter_data_dir())\n",
    "print(jupyter_path())"
   ]
  },
  {
   "cell_type": "code",
   "execution_count": null,
   "metadata": {
    "collapsed": true
   },
   "outputs": [],
   "source": []
  },
  {
   "cell_type": "code",
   "execution_count": 2,
   "metadata": {
    "collapsed": false
   },
   "outputs": [
    {
     "name": "stdout",
     "output_type": "stream",
     "text": [
      "Extension not found\n"
     ]
    }
   ],
   "source": [
    "import notebook\n",
    "if notebook.nbextensions.check_nbextension('usability/runtools', user=False):\n",
    "    E = notebook.nbextensions.EnableNBExtensionApp()\n",
    "    E.enable_nbextension('usability/runtools/main')\n",
    "else:\n",
    "    print (\"Extension not found\")"
   ]
  },
  {
   "cell_type": "code",
   "execution_count": 3,
   "metadata": {
    "collapsed": false
   },
   "outputs": [
    {
     "name": "stdout",
     "output_type": "stream",
     "text": [
      "Extension not found\n"
     ]
    }
   ],
   "source": [
    "if notebook.nbextensions.check_nbextension('usability/dragdrop', user=False):\n",
    "    E = notebook.nbextensions.EnableNBExtensionApp()\n",
    "    E.enable_nbextension('usability/dragdrop/main')\n",
    "else:\n",
    "    print (\"Extension not found\")"
   ]
  },
  {
   "cell_type": "code",
   "execution_count": 5,
   "metadata": {
    "collapsed": false
   },
   "outputs": [
    {
     "name": "stdout",
     "output_type": "stream",
     "text": [
      "Extension not found\n"
     ]
    }
   ],
   "source": [
    "if notebook.nbextensions.check_nbextension('usability/navigation_hotkeys', user=False):\n",
    "    E = notebook.nbextensions.EnableNBExtensionApp()\n",
    "    E.enable_nbextension('usability/navigation_hotkeys')\n",
    "else:\n",
    "    print (\"Extension not found\")"
   ]
  },
  {
   "cell_type": "code",
   "execution_count": 13,
   "metadata": {
    "collapsed": false
   },
   "outputs": [
    {
     "data": {
      "text/html": [
       "\n",
       "<table border=\"1\">\n",
       "  <tr>\n",
       "    <th>Extension name</th>\n",
       "  </tr>\n",
       "<tr><td>IPython-notebook-extensions-3.x/usability/runtools/main</td>\n",
       "<tr><td>publishing/showSASLog/main</td>\n",
       "<tr><td>usability/codefolding/main</td>\n",
       "<tr><td>create_assignment/main</td>\n",
       "<tr><td>publishing/printview/main</td>\n",
       "<tr><td>usability/execute_time/ExecuteTime</td>\n",
       "<tr><td>publishing/gist_it/main</td>\n",
       "\n",
       "</table>\n"
      ],
      "text/plain": [
       "<IPython.core.display.HTML object>"
      ]
     },
     "execution_count": 13,
     "metadata": {},
     "output_type": "execute_result"
    }
   ],
   "source": [
    "from IPython.html.services.config import ConfigManager\n",
    "from IPython.display import HTML\n",
    "ip = get_ipython()\n",
    "cm = ConfigManager(parent=ip, profile_dir=ip.profile_dir.location)\n",
    "extensions =cm.get('notebook')\n",
    "table = \"\"\n",
    "for ext in extensions['load_extensions']:\n",
    "    table += \"<tr><td>%s</td>\\n\" % (ext)\n",
    "\n",
    "top = \"\"\"\n",
    "<table border=\"1\">\n",
    "  <tr>\n",
    "    <th>Extension name</th>\n",
    "  </tr>\n",
    "\"\"\"\n",
    "bottom = \"\"\"\n",
    "</table>\n",
    "\"\"\"\n",
    "HTML(top + table + bottom)\n"
   ]
  },
  {
   "cell_type": "code",
   "execution_count": 8,
   "metadata": {
    "collapsed": false
   },
   "outputs": [
    {
     "data": {
      "text/plain": [
       "{'load_extensions': {'IPython-notebook-extensions-3.x/usability/runtools/main': True,\n",
       "  'create_assignment/main': True,\n",
       "  'publishing/printview/main': True,\n",
       "  'usability/codefolding/main': True}}"
      ]
     },
     "execution_count": 8,
     "metadata": {},
     "output_type": "execute_result"
    }
   ],
   "source": [
    "from IPython.html.services.config import ConfigManager\n",
    "ip = get_ipython()\n",
    "cm = ConfigManager(parent=ip, profile_dir=ip.profile_dir.location)\n",
    "cm.update('notebook', {\"load_extensions\": {\"IPython-notebook-extensions-3.x/usability/runtools/main\": True}})\n"
   ]
  },
  {
   "cell_type": "code",
   "execution_count": 10,
   "metadata": {
    "collapsed": true
   },
   "outputs": [],
   "source": [
    "if notebook.nbextensions.check_nbextension('usability/execute_time', user=True):\n",
    "    E = notebook.nbextensions.EnableNBExtensionApp()\n",
    "    E.enable_nbextension('usability/execute_time/ExecuteTime')\n",
    "else:\n",
    "    print (\"Extension not found\")"
   ]
  },
  {
   "cell_type": "code",
   "execution_count": 11,
   "metadata": {
    "collapsed": true
   },
   "outputs": [],
   "source": [
    "if notebook.nbextensions.check_nbextension('publishing/gist_it', user=True):\n",
    "    E = notebook.nbextensions.EnableNBExtensionApp()\n",
    "    E.enable_nbextension('publishing/gist_it/main')\n",
    "else:\n",
    "    print (\"Extension not found\")"
   ]
  },
  {
   "cell_type": "code",
   "execution_count": 12,
   "metadata": {
    "collapsed": true
   },
   "outputs": [],
   "source": [
    "if notebook.nbextensions.check_nbextension('publishing/showSASLog', user=True):\n",
    "    E = notebook.nbextensions.EnableNBExtensionApp()\n",
    "    E.enable_nbextension('publishing/showSASLog/main')\n",
    "else:\n",
    "    print (\"Extension not found\")"
   ]
  },
  {
   "cell_type": "code",
   "execution_count": null,
   "metadata": {
    "collapsed": true
   },
   "outputs": [],
   "source": [
    "# check for update 3"
   ]
  }
 ],
 "metadata": {
  "kernelspec": {
   "display_name": "Python 3",
   "language": "python",
   "name": "python3"
  },
  "language_info": {
   "codemirror_mode": {
    "name": "ipython",
    "version": 3
   },
   "file_extension": ".py",
   "mimetype": "text/x-python",
   "name": "python",
   "nbconvert_exporter": "python",
   "pygments_lexer": "ipython3",
   "version": "3.5.1"
  }
 },
 "nbformat": 4,
 "nbformat_minor": 0
}
